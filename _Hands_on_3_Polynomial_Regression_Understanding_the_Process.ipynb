{
  "nbformat": 4,
  "nbformat_minor": 0,
  "metadata": {
    "colab": {
      "provenance": [],
      "authorship_tag": "ABX9TyMIIVedb7AUN6PUy2kjKK42",
      "include_colab_link": true
    },
    "kernelspec": {
      "name": "python3",
      "display_name": "Python 3"
    },
    "language_info": {
      "name": "python"
    }
  },
  "cells": [
    {
      "cell_type": "markdown",
      "metadata": {
        "id": "view-in-github",
        "colab_type": "text"
      },
      "source": [
        "<a href=\"https://colab.research.google.com/github/Aranzazu21/Machine-Learning/blob/main/_Hands_on_3_Polynomial_Regression_Understanding_the_Process.ipynb\" target=\"_parent\"><img src=\"https://colab.research.google.com/assets/colab-badge.svg\" alt=\"Open In Colab\"/></a>"
      ]
    },
    {
      "cell_type": "markdown",
      "source": [
        "# Hands-on 3: Polynomial Regression\n",
        "**Alumno:** Jorge Limón Aranzazu  \n",
        "**Materia:** Inteligencia Artificial  \n",
        "**Fecha:** (11/07/2025)\n",
        "\n",
        "*Introducción*\n",
        "\n",
        "\n",
        "## **1. Introducción a la Regresión Polinómica**\n",
        "La **regresión polinómica** es un tipo de regresión lineal donde la relación entre la variable de entrada `x` y la variable de salida `y` se expresa como un polinomio.  \n",
        "En términos simples, es como ajustar una **curva** en lugar de una línea recta a los puntos de datos. Esta curva refleja cómo `y` cambia a medida que `x` se eleva a diferentes potencias (`x`, `x²`, `x³`, ...).  \n",
        "\n",
        "Es útil cuando los datos muestran un patrón **no lineal**, indicando que la relación entre `x` y `y` es más compleja que un simple aumento o disminución constante.\n",
        "\n",
        "---\n",
        "## **2. Fórmula de la Regresión Polinómica**\n",
        "Matemáticamente, se modela como un polinomio de grado `n`:\n",
        "\n",
        "\\[\n",
        "y = a_0 + a_1 x + a_2 x^2 + a_3 x^3 + \\dots + a_n x^n\n",
        "\\]\n",
        "\n",
        "- `y` es la variable dependiente.  \n",
        "- `x` es la variable independiente.  \n",
        "- `a_0, a_1, ..., a_n` son los coeficientes que el modelo aprenderá.  \n",
        "\n",
        "---\n",
        "Ecuación general:\n",
        "\n",
        "y = β₀ + β₁x + β₂x² + ... + βₙxⁿ + ε\n",
        "\n",
        "Es útil cuando los datos tienen una forma curva y la regresión lineal simple no logra\n",
        "representar correctamente la relación entre las variables. Este notebook implementa\n",
        "la regresión polinómica paso a paso usando Python y scikit-learn.\n",
        "\"\"\""
      ],
      "metadata": {
        "id": "KpLfSYEojKVH"
      }
    },
    {
      "cell_type": "markdown",
      "source": [
        "## **5. Implementación de la Regresión Polinómica**\n",
        "\n",
        "### **Paso 1: Preparación de Datos**\n",
        "- Recolectar y limpiar los datos.  \n",
        "- Eliminar valores atípicos, ya que la regresión polinómica es sensible a ellos.\n",
        "\n",
        "### **Paso 2: Selección del grado polinómico**\n",
        "- Basado en inspección visual o validación cruzada, equilibrando simplicidad y precisión.\n",
        "\n",
        "### **Paso 3: Entrenamiento del modelo**\n",
        "- Ajustar un modelo de regresión lineal a las **características polinómicas** transformadas de los datos."
      ],
      "metadata": {
        "id": "NA1Rzmh_jD7x"
      }
    },
    {
      "cell_type": "markdown",
      "source": [
        "# Paso 1: Importar librerías\n",
        "\n",
        "En este primer paso, importamos todas las librerías necesarias para implementar la regresión polinómica en Python:\n",
        "\n",
        "- `numpy` (np): Permite crear y manipular arreglos y realizar operaciones matemáticas de manera eficiente.\n",
        "- `matplotlib.pyplot` (plt): Se utiliza para graficar los datos y visualizar los resultados.\n",
        "- `train_test_split` de `sklearn.model_selection`: Divide el conjunto de datos en subconjuntos de entrenamiento y prueba.\n",
        "- `PolynomialFeatures` de `sklearn.preprocessing`: Transforma las variables originales en nuevas características polinómicas, necesarias para ajustar modelos no lineales.\n",
        "- `LinearRegression` de `sklearn.linear_model`: Implementa el modelo de regresión lineal.\n",
        "- `mean_squared_error` y `r2_score` de `sklearn.metrics`: Permiten evaluar el rendimiento del modelo.\n",
        "- `Pipeline` de `sklearn.pipeline`: Facilita encadenar la transformación de datos y el entrenamiento del modelo en un solo objeto.\n",
        "- `GridSearchCV` de `sklearn.model_selection`: Permite encontrar los mejores hiperparámetros del modelo mediante validación cruzada.\n",
        "- `warnings`: Se utiliza para ignorar advertencias innecesarias durante la ejecución.\n",
        "\n"
      ],
      "metadata": {
        "id": "BYa8nwZYj92c"
      }
    },
    {
      "cell_type": "code",
      "source": [
        "\n",
        "# Paso 1: Importar librerías\n",
        "\n",
        "import numpy as np\n",
        "import matplotlib.pyplot as plt\n",
        "from sklearn.model_selection import train_test_split\n",
        "from sklearn.preprocessing import PolynomialFeatures\n",
        "from sklearn.linear_model import LinearRegression\n",
        "from sklearn.metrics import mean_squared_error, r2_score\n",
        "from sklearn.pipeline import Pipeline\n",
        "from sklearn.model_selection import GridSearchCV\n",
        "import warnings\n",
        "warnings.filterwarnings('ignore')"
      ],
      "metadata": {
        "id": "p5PQmbOmjpwc"
      },
      "execution_count": 1,
      "outputs": []
    },
    {
      "cell_type": "markdown",
      "source": [
        "## Dataset de Ejemplo\n",
        "\n",
        "Se creó un dataset con los **nuevos casos de COVID-19 en China durante 30 días**.  \n",
        "El archivo CSV tiene este formato:\n",
        "\n"
      ],
      "metadata": {
        "id": "HTpDySd6UzHm"
      }
    },
    {
      "cell_type": "code",
      "source": [
        "\n",
        "# Paso 2: Preparar los datos (datos de Hassane Skikri)\n",
        "# Datos originales: X representa la variable independiente y y la dependiente\n",
        "X = np.arange(0, 40)\n",
        "y = [1, 4, 5, 7, 8, 6, 9, 10, 10, 23, 25, 44, 50, 63, 67, 64, 62, 70, 75, 88,\n",
        "     90, 92, 95, 100, 108, 135, 151, 160, 169, 172, 173, 176, 175, 175, 176, 178, 179, 180, 190, 201]\n"
      ],
      "metadata": {
        "id": "dl2lx-BcjqDO"
      },
      "execution_count": 2,
      "outputs": []
    },
    {
      "cell_type": "code",
      "source": [
        "# Graficar los datos originales para observar la relación\n",
        "plt.figure(figsize=(8,5))\n",
        "plt.scatter(X, y, color='blue', label='Datos Originales')\n",
        "plt.xlabel('X')\n",
        "plt.ylabel('y')\n",
        "plt.title('Gráfico de dispersión de los datos')\n",
        "plt.legend()\n",
        "plt.show()\n",
        "\n"
      ],
      "metadata": {
        "colab": {
          "base_uri": "https://localhost:8080/",
          "height": 488
        },
        "id": "hbclikGUjqGC",
        "outputId": "e2f81d7d-1ffa-4977-bb12-4113904110e2"
      },
      "execution_count": 3,
      "outputs": [
        {
          "output_type": "display_data",
          "data": {
            "text/plain": [
              "<Figure size 800x500 with 1 Axes>"
            ],
            "image/png": "[encoded data removed]"
          },
          "metadata": {}
        }
      ]
    },
    {
      "cell_type": "markdown",
      "source": [
        "# Paso 3: Dividir los datos en entrenamiento y prueba\n",
        "\n",
        "En este paso separamos nuestros datos en dos conjuntos:\n",
        "\n",
        "- **Conjunto de entrenamiento (Training set):** Usado para ajustar el modelo. En este caso, se utiliza el **80% de los datos**.\n",
        "- **Conjunto de prueba (Test set):** Usado para evaluar el rendimiento del modelo con datos que no ha visto antes. En este caso, se utiliza el **20% restante**.\n",
        "\n",
        "Parámetros importantes:\n",
        "\n",
        "- `test_size=0.2`: Define la proporción de datos que irán al conjunto de prueba (20%).\n",
        "- `random_state=42`: Fija la semilla aleatoria para que la división sea reproducible. Así, cada vez que ejecutes el notebook obtendrás la misma separación de datos.\n",
        "\n",
        "> Esto es crucial para evaluar correctamente el desempeño del modelo y evitar **overfitting**, ya que garantiza que el modelo se prueba con datos independientes de los de entrenamiento.\n"
      ],
      "metadata": {
        "id": "_xbgbWN2kbSQ"
      }
    },
    {
      "cell_type": "code",
      "source": [
        "\n",
        "# Paso 3: Dividir los datos en entrenamiento y prueba\n",
        "\n",
        "X_train, X_test, y_train, y_test = train_test_split(X, y, test_size=0.2, random_state=42)"
      ],
      "metadata": {
        "id": "c248wrStkDiq"
      },
      "execution_count": 4,
      "outputs": []
    },
    {
      "cell_type": "markdown",
      "source": [
        "# Paso 4: Configurar un Pipeline de regresión polinómica\n",
        "\n",
        "En este paso creamos un **pipeline**, que es una forma de encadenar varias transformaciones y modelos en un solo objeto.  \n",
        "\n",
        "Elementos del pipeline:\n",
        "\n",
        "1. **PolynomialFeatures (`'poly'`)**  \n",
        "   - Transforma los datos originales en características polinómicas de diferentes grados.  \n",
        "   - Por ejemplo, si tenemos `x`, crea `[1, x, x², x³, ...]` dependiendo del grado que elijamos.  \n",
        "   - Esto permite que un modelo lineal pueda ajustar relaciones no lineales.\n",
        "\n",
        "2. **LinearRegression (`'linear'`)**  \n",
        "   - Aplica un modelo de regresión lineal sobre las nuevas características polinómicas.  \n",
        "   - Aunque estamos ajustando una curva, internamente sigue siendo un modelo lineal respecto a los coeficientes.\n",
        "\n",
        "> La ventaja de usar un **pipeline** es que podemos combinar la transformación y el modelo en un solo objeto, facilitando tareas como **grid search** o validación cruzada.\n"
      ],
      "metadata": {
        "id": "352aMcdHkm6i"
      }
    },
    {
      "cell_type": "code",
      "source": [
        "\n",
        "# Paso 4: Configurar un Pipeline de regresión polinómica\n",
        "\n",
        "pipeline = Pipeline([\n",
        "    ('poly', PolynomialFeatures()),\n",
        "    ('linear', LinearRegression())\n",
        "])\n",
        "\n",
        "\n",
        "\n"
      ],
      "metadata": {
        "id": "D7GjSKA5jqKZ"
      },
      "execution_count": 5,
      "outputs": []
    },
    {
      "cell_type": "markdown",
      "source": [
        "# Paso 5: Selección del grado óptimo del polinomio con GridSearchCV\n",
        "\n",
        "En este paso buscamos el **grado polinómico** que mejor se ajusta a los datos sin sobreajustar.\n",
        "\n",
        "1. **Definición de parámetros**  \n",
        "   - Creamos un diccionario `parameters` donde indicamos los grados a probar: `np.arange(1,5)` significa que probaremos grados 1, 2, 3 y 4.\n",
        "\n",
        "2. **GridSearchCV**  \n",
        "   - Evalúa automáticamente todas las combinaciones de parámetros indicados y determina cuál es el mejor.  \n",
        "   - `cv=4` significa que usamos **validación cruzada** de 4 particiones (K-fold).  \n",
        "   - `scoring='neg_mean_squared_error'` indica que el criterio para elegir el mejor modelo es **error cuadrático medio**, siendo menor el error, mejor el ajuste.\n",
        "\n",
        "3. **Ajuste del modelo**  \n",
        "   - `grid_search.fit(X_train.reshape(-1,1), y_train)` entrena el pipeline con cada grado de polinomio evaluando su desempeño.\n",
        "\n",
        "4. **Resultado**  \n",
        "   - `best_degree = grid_search.best_params_['poly__degree']` obtiene el grado que produjo el menor error.  \n",
        "   - Esto nos permite usar el grado óptimo para entrenar el modelo final y obtener un ajuste más preciso.\n"
      ],
      "metadata": {
        "id": "VIJ8TELKklw_"
      }
    },
    {
      "cell_type": "code",
      "source": [
        "\n",
        "# Paso 5: Selección del grado óptimo del polinomio con GridSearchCV\n",
        "\n",
        "parameters = {'poly__degree': np.arange(1, 5)}\n",
        "grid_search = GridSearchCV(pipeline, parameters, cv=4, scoring='neg_mean_squared_error')\n",
        "grid_search.fit(X_train.reshape(-1,1), y_train)\n",
        "\n",
        "best_degree = grid_search.best_params_['poly__degree']\n",
        "print(\"El grado óptimo del polinomio es:\", best_degree)\n",
        "\n"
      ],
      "metadata": {
        "colab": {
          "base_uri": "https://localhost:8080/"
        },
        "id": "zZzZGcBZjqNm",
        "outputId": "7eb7ae4f-76ea-4765-8dc1-ddd9ae5a9907"
      },
      "execution_count": 6,
      "outputs": [
        {
          "output_type": "stream",
          "name": "stdout",
          "text": [
            "El grado óptimo del polinomio es: 3\n"
          ]
        }
      ]
    },
    {
      "cell_type": "markdown",
      "source": [
        "# Paso 6: Transformar los datos según el mejor grado\n",
        "\n",
        "En este paso preparamos los datos para entrenar el modelo usando el **grado polinómico óptimo** encontrado en el paso anterior.\n",
        "\n",
        "1. **Crear objeto PolynomialFeatures**  \n",
        "   - `poly_best = PolynomialFeatures(degree=best_degree)` crea una transformación que genera nuevas características elevando la variable `X` a todas las potencias desde 0 hasta `best_degree`.  \n",
        "   - Por ejemplo, si `best_degree = 3`, cada dato `x` se transforma en `[1, x, x², x³]`.\n",
        "\n",
        "2. **Transformar los datos de entrenamiento**  \n",
        "   - `X_poly_train_best = poly_best.fit_transform(X_train.reshape(-1,1))` aplica la transformación a los datos de entrenamiento.  \n",
        "   - `fit_transform` ajusta la transformación y luego la aplica.\n",
        "\n",
        "3. **Transformar los datos de prueba**  \n",
        "   - `X_poly_test_best = poly_best.transform(X_test.reshape(-1,1))` aplica la misma transformación a los datos de prueba, **sin recalcular los parámetros**, para asegurar consistencia en la predicción.\n"
      ],
      "metadata": {
        "id": "tYWmpFvtmek3"
      }
    },
    {
      "cell_type": "code",
      "source": [
        "\n",
        "# Paso 6: Transformar los datos según el mejor grado\n",
        "\n",
        "poly_best = PolynomialFeatures(degree=best_degree)\n",
        "X_poly_train_best = poly_best.fit_transform(X_train.reshape(-1,1))\n",
        "X_poly_test_best = poly_best.transform(X_test.reshape(-1,1))\n"
      ],
      "metadata": {
        "id": "PfYACnLqjqQX"
      },
      "execution_count": 7,
      "outputs": []
    },
    {
      "cell_type": "markdown",
      "source": [
        "# Paso 7: Entrenar el modelo final\n",
        "\n",
        "En este paso entrenamos el **modelo de regresión lineal** usando las características polinómicas transformadas de los datos de entrenamiento.\n",
        "\n",
        "1. **Crear el modelo**  \n",
        "   - `model_best = LinearRegression()` crea un objeto de regresión lineal de scikit-learn.  \n",
        "   - Aunque usamos regresión lineal, al aplicarla sobre características polinómicas, **el modelo aprende una curva**, no una línea recta.\n",
        "\n",
        "2. **Entrenar el modelo**  \n",
        "   - `model_best.fit(X_poly_train_best, y_train)` ajusta el modelo a los datos transformados.  \n",
        "   - Durante el entrenamiento, el modelo encuentra los **coeficientes** que minimizan el error cuadrático entre las predicciones y los valores reales de `y_train`.\n"
      ],
      "metadata": {
        "id": "PxkazBEVmjHL"
      }
    },
    {
      "cell_type": "code",
      "source": [
        "\n",
        "# Paso 7: Entrenar el modelo final\n",
        "\n",
        "model_best = LinearRegression()\n",
        "model_best.fit(X_poly_train_best, y_train)\n"
      ],
      "metadata": {
        "colab": {
          "base_uri": "https://localhost:8080/",
          "height": 80
        },
        "id": "ozXk_FtvjqTE",
        "outputId": "37a4b7dc-bca1-4e64-d6eb-6c9b8196bb27"
      },
      "execution_count": 8,
      "outputs": [
        {
          "output_type": "execute_result",
          "data": {
            "text/plain": [
              "LinearRegression()"
            ],
            "text/html": [
              "<style>#sk-container-id-1 {\n",
              "  /* Definition of color scheme common for light and dark mode */\n",
              "  --sklearn-color-text: #000;\n",
              "  --sklearn-color-text-muted: #666;\n",
              "  --sklearn-color-line: gray;\n",
              "  /* Definition of color scheme for unfitted estimators */\n",
              "  --sklearn-color-unfitted-level-0: #fff5e6;\n",
              "  --sklearn-color-unfitted-level-1: #f6e4d2;\n",
              "  --sklearn-color-unfitted-level-2: #ffe0b3;\n",
              "  --sklearn-color-unfitted-level-3: chocolate;\n",
              "  /* Definition of color scheme for fitted estimators */\n",
              "  --sklearn-color-fitted-level-0: #f0f8ff;\n",
              "  --sklearn-color-fitted-level-1: #d4ebff;\n",
              "  --sklearn-color-fitted-level-2: #b3dbfd;\n",
              "  --sklearn-color-fitted-level-3: cornflowerblue;\n",
              "\n",
              "  /* Specific color for light theme */\n",
              "  --sklearn-color-text-on-default-background: var(--sg-text-color, var(--theme-code-foreground, var(--jp-content-font-color1, black)));\n",
              "  --sklearn-color-background: var(--sg-background-color, var(--theme-background, var(--jp-layout-color0, white)));\n",
              "  --sklearn-color-border-box: var(--sg-text-color, var(--theme-code-foreground, var(--jp-content-font-color1, black)));\n",
              "  --sklearn-color-icon: #696969;\n",
              "\n",
              "  @media (prefers-color-scheme: dark) {\n",
              "    /* Redefinition of color scheme for dark theme */\n",
              "    --sklearn-color-text-on-default-background: var(--sg-text-color, var(--theme-code-foreground, var(--jp-content-font-color1, white)));\n",
              "    --sklearn-color-background: var(--sg-background-color, var(--theme-background, var(--jp-layout-color0, #111)));\n",
              "    --sklearn-color-border-box: var(--sg-text-color, var(--theme-code-foreground, var(--jp-content-font-color1, white)));\n",
              "    --sklearn-color-icon: #878787;\n",
              "  }\n",
              "}\n",
              "\n",
              "#sk-container-id-1 {\n",
              "  color: var(--sklearn-color-text);\n",
              "}\n",
              "\n",
              "#sk-container-id-1 pre {\n",
              "  padding: 0;\n",
              "}\n",
              "\n",
              "#sk-container-id-1 input.sk-hidden--visually {\n",
              "  border: 0;\n",
              "  clip: rect(1px 1px 1px 1px);\n",
              "  clip: rect(1px, 1px, 1px, 1px);\n",
              "  height: 1px;\n",
              "  margin: -1px;\n",
              "  overflow: hidden;\n",
              "  padding: 0;\n",
              "  position: absolute;\n",
              "  width: 1px;\n",
              "}\n",
              "\n",
              "#sk-container-id-1 div.sk-dashed-wrapped {\n",
              "  border: 1px dashed var(--sklearn-color-line);\n",
              "  margin: 0 0.4em 0.5em 0.4em;\n",
              "  box-sizing: border-box;\n",
              "  padding-bottom: 0.4em;\n",
              "  background-color: var(--sklearn-color-background);\n",
              "}\n",
              "\n",
              "#sk-container-id-1 div.sk-container {\n",
              "  /* jupyter's `normalize.less` sets `[hidden] { display: none; }`\n",
              "     but bootstrap.min.css set `[hidden] { display: none !important; }`\n",
              "     so we also need the `!important` here to be able to override the\n",
              "     default hidden behavior on the sphinx rendered scikit-learn.org.\n",
              "     See: https://github.com/scikit-learn/scikit-learn/issues/21755 */\n",
              "  display: inline-block !important;\n",
              "  position: relative;\n",
              "}\n",
              "\n",
              "#sk-container-id-1 div.sk-text-repr-fallback {\n",
              "  display: none;\n",
              "}\n",
              "\n",
              "div.sk-parallel-item,\n",
              "div.sk-serial,\n",
              "div.sk-item {\n",
              "  /* draw centered vertical line to link estimators */\n",
              "  background-image: linear-gradient(var(--sklearn-color-text-on-default-background), var(--sklearn-color-text-on-default-background));\n",
              "  background-size: 2px 100%;\n",
              "  background-repeat: no-repeat;\n",
              "  background-position: center center;\n",
              "}\n",
              "\n",
              "/* Parallel-specific style estimator block */\n",
              "\n",
              "#sk-container-id-1 div.sk-parallel-item::after {\n",
              "  content: \"\";\n",
              "  width: 100%;\n",
              "  border-bottom: 2px solid var(--sklearn-color-text-on-default-background);\n",
              "  flex-grow: 1;\n",
              "}\n",
              "\n",
              "#sk-container-id-1 div.sk-parallel {\n",
              "  display: flex;\n",
              "  align-items: stretch;\n",
              "  justify-content: center;\n",
              "  background-color: var(--sklearn-color-background);\n",
              "  position: relative;\n",
              "}\n",
              "\n",
              "#sk-container-id-1 div.sk-parallel-item {\n",
              "  display: flex;\n",
              "  flex-direction: column;\n",
              "}\n",
              "\n",
              "#sk-container-id-1 div.sk-parallel-item:first-child::after {\n",
              "  align-self: flex-end;\n",
              "  width: 50%;\n",
              "}\n",
              "\n",
              "#sk-container-id-1 div.sk-parallel-item:last-child::after {\n",
              "  align-self: flex-start;\n",
              "  width: 50%;\n",
              "}\n",
              "\n",
              "#sk-container-id-1 div.sk-parallel-item:only-child::after {\n",
              "  width: 0;\n",
              "}\n",
              "\n",
              "/* Serial-specific style estimator block */\n",
              "\n",
              "#sk-container-id-1 div.sk-serial {\n",
              "  display: flex;\n",
              "  flex-direction: column;\n",
              "  align-items: center;\n",
              "  background-color: var(--sklearn-color-background);\n",
              "  padding-right: 1em;\n",
              "  padding-left: 1em;\n",
              "}\n",
              "\n",
              "\n",
              "/* Toggleable style: style used for estimator/Pipeline/ColumnTransformer box that is\n",
              "clickable and can be expanded/collapsed.\n",
              "- Pipeline and ColumnTransformer use this feature and define the default style\n",
              "- Estimators will overwrite some part of the style using the `sk-estimator` class\n",
              "*/\n",
              "\n",
              "/* Pipeline and ColumnTransformer style (default) */\n",
              "\n",
              "#sk-container-id-1 div.sk-toggleable {\n",
              "  /* Default theme specific background. It is overwritten whether we have a\n",
              "  specific estimator or a Pipeline/ColumnTransformer */\n",
              "  background-color: var(--sklearn-color-background);\n",
              "}\n",
              "\n",
              "/* Toggleable label */\n",
              "#sk-container-id-1 label.sk-toggleable__label {\n",
              "  cursor: pointer;\n",
              "  display: flex;\n",
              "  width: 100%;\n",
              "  margin-bottom: 0;\n",
              "  padding: 0.5em;\n",
              "  box-sizing: border-box;\n",
              "  text-align: center;\n",
              "  align-items: start;\n",
              "  justify-content: space-between;\n",
              "  gap: 0.5em;\n",
              "}\n",
              "\n",
              "#sk-container-id-1 label.sk-toggleable__label .caption {\n",
              "  font-size: 0.6rem;\n",
              "  font-weight: lighter;\n",
              "  color: var(--sklearn-color-text-muted);\n",
              "}\n",
              "\n",
              "#sk-container-id-1 label.sk-toggleable__label-arrow:before {\n",
              "  /* Arrow on the left of the label */\n",
              "  content: \"▸\";\n",
              "  float: left;\n",
              "  margin-right: 0.25em;\n",
              "  color: var(--sklearn-color-icon);\n",
              "}\n",
              "\n",
              "#sk-container-id-1 label.sk-toggleable__label-arrow:hover:before {\n",
              "  color: var(--sklearn-color-text);\n",
              "}\n",
              "\n",
              "/* Toggleable content - dropdown */\n",
              "\n",
              "#sk-container-id-1 div.sk-toggleable__content {\n",
              "  max-height: 0;\n",
              "  max-width: 0;\n",
              "  overflow: hidden;\n",
              "  text-align: left;\n",
              "  /* unfitted */\n",
              "  background-color: var(--sklearn-color-unfitted-level-0);\n",
              "}\n",
              "\n",
              "#sk-container-id-1 div.sk-toggleable__content.fitted {\n",
              "  /* fitted */\n",
              "  background-color: var(--sklearn-color-fitted-level-0);\n",
              "}\n",
              "\n",
              "#sk-container-id-1 div.sk-toggleable__content pre {\n",
              "  margin: 0.2em;\n",
              "  border-radius: 0.25em;\n",
              "  color: var(--sklearn-color-text);\n",
              "  /* unfitted */\n",
              "  background-color: var(--sklearn-color-unfitted-level-0);\n",
              "}\n",
              "\n",
              "#sk-container-id-1 div.sk-toggleable__content.fitted pre {\n",
              "  /* unfitted */\n",
              "  background-color: var(--sklearn-color-fitted-level-0);\n",
              "}\n",
              "\n",
              "#sk-container-id-1 input.sk-toggleable__control:checked~div.sk-toggleable__content {\n",
              "  /* Expand drop-down */\n",
              "  max-height: 200px;\n",
              "  max-width: 100%;\n",
              "  overflow: auto;\n",
              "}\n",
              "\n",
              "#sk-container-id-1 input.sk-toggleable__control:checked~label.sk-toggleable__label-arrow:before {\n",
              "  content: \"▾\";\n",
              "}\n",
              "\n",
              "/* Pipeline/ColumnTransformer-specific style */\n",
              "\n",
              "#sk-container-id-1 div.sk-label input.sk-toggleable__control:checked~label.sk-toggleable__label {\n",
              "  color: var(--sklearn-color-text);\n",
              "  background-color: var(--sklearn-color-unfitted-level-2);\n",
              "}\n",
              "\n",
              "#sk-container-id-1 div.sk-label.fitted input.sk-toggleable__control:checked~label.sk-toggleable__label {\n",
              "  background-color: var(--sklearn-color-fitted-level-2);\n",
              "}\n",
              "\n",
              "/* Estimator-specific style */\n",
              "\n",
              "/* Colorize estimator box */\n",
              "#sk-container-id-1 div.sk-estimator input.sk-toggleable__control:checked~label.sk-toggleable__label {\n",
              "  /* unfitted */\n",
              "  background-color: var(--sklearn-color-unfitted-level-2);\n",
              "}\n",
              "\n",
              "#sk-container-id-1 div.sk-estimator.fitted input.sk-toggleable__control:checked~label.sk-toggleable__label {\n",
              "  /* fitted */\n",
              "  background-color: var(--sklearn-color-fitted-level-2);\n",
              "}\n",
              "\n",
              "#sk-container-id-1 div.sk-label label.sk-toggleable__label,\n",
              "#sk-container-id-1 div.sk-label label {\n",
              "  /* The background is the default theme color */\n",
              "  color: var(--sklearn-color-text-on-default-background);\n",
              "}\n",
              "\n",
              "/* On hover, darken the color of the background */\n",
              "#sk-container-id-1 div.sk-label:hover label.sk-toggleable__label {\n",
              "  color: var(--sklearn-color-text);\n",
              "  background-color: var(--sklearn-color-unfitted-level-2);\n",
              "}\n",
              "\n",
              "/* Label box, darken color on hover, fitted */\n",
              "#sk-container-id-1 div.sk-label.fitted:hover label.sk-toggleable__label.fitted {\n",
              "  color: var(--sklearn-color-text);\n",
              "  background-color: var(--sklearn-color-fitted-level-2);\n",
              "}\n",
              "\n",
              "/* Estimator label */\n",
              "\n",
              "#sk-container-id-1 div.sk-label label {\n",
              "  font-family: monospace;\n",
              "  font-weight: bold;\n",
              "  display: inline-block;\n",
              "  line-height: 1.2em;\n",
              "}\n",
              "\n",
              "#sk-container-id-1 div.sk-label-container {\n",
              "  text-align: center;\n",
              "}\n",
              "\n",
              "/* Estimator-specific */\n",
              "#sk-container-id-1 div.sk-estimator {\n",
              "  font-family: monospace;\n",
              "  border: 1px dotted var(--sklearn-color-border-box);\n",
              "  border-radius: 0.25em;\n",
              "  box-sizing: border-box;\n",
              "  margin-bottom: 0.5em;\n",
              "  /* unfitted */\n",
              "  background-color: var(--sklearn-color-unfitted-level-0);\n",
              "}\n",
              "\n",
              "#sk-container-id-1 div.sk-estimator.fitted {\n",
              "  /* fitted */\n",
              "  background-color: var(--sklearn-color-fitted-level-0);\n",
              "}\n",
              "\n",
              "/* on hover */\n",
              "#sk-container-id-1 div.sk-estimator:hover {\n",
              "  /* unfitted */\n",
              "  background-color: var(--sklearn-color-unfitted-level-2);\n",
              "}\n",
              "\n",
              "#sk-container-id-1 div.sk-estimator.fitted:hover {\n",
              "  /* fitted */\n",
              "  background-color: var(--sklearn-color-fitted-level-2);\n",
              "}\n",
              "\n",
              "/* Specification for estimator info (e.g. \"i\" and \"?\") */\n",
              "\n",
              "/* Common style for \"i\" and \"?\" */\n",
              "\n",
              ".sk-estimator-doc-link,\n",
              "a:link.sk-estimator-doc-link,\n",
              "a:visited.sk-estimator-doc-link {\n",
              "  float: right;\n",
              "  font-size: smaller;\n",
              "  line-height: 1em;\n",
              "  font-family: monospace;\n",
              "  background-color: var(--sklearn-color-background);\n",
              "  border-radius: 1em;\n",
              "  height: 1em;\n",
              "  width: 1em;\n",
              "  text-decoration: none !important;\n",
              "  margin-left: 0.5em;\n",
              "  text-align: center;\n",
              "  /* unfitted */\n",
              "  border: var(--sklearn-color-unfitted-level-1) 1pt solid;\n",
              "  color: var(--sklearn-color-unfitted-level-1);\n",
              "}\n",
              "\n",
              ".sk-estimator-doc-link.fitted,\n",
              "a:link.sk-estimator-doc-link.fitted,\n",
              "a:visited.sk-estimator-doc-link.fitted {\n",
              "  /* fitted */\n",
              "  border: var(--sklearn-color-fitted-level-1) 1pt solid;\n",
              "  color: var(--sklearn-color-fitted-level-1);\n",
              "}\n",
              "\n",
              "/* On hover */\n",
              "div.sk-estimator:hover .sk-estimator-doc-link:hover,\n",
              ".sk-estimator-doc-link:hover,\n",
              "div.sk-label-container:hover .sk-estimator-doc-link:hover,\n",
              ".sk-estimator-doc-link:hover {\n",
              "  /* unfitted */\n",
              "  background-color: var(--sklearn-color-unfitted-level-3);\n",
              "  color: var(--sklearn-color-background);\n",
              "  text-decoration: none;\n",
              "}\n",
              "\n",
              "div.sk-estimator.fitted:hover .sk-estimator-doc-link.fitted:hover,\n",
              ".sk-estimator-doc-link.fitted:hover,\n",
              "div.sk-label-container:hover .sk-estimator-doc-link.fitted:hover,\n",
              ".sk-estimator-doc-link.fitted:hover {\n",
              "  /* fitted */\n",
              "  background-color: var(--sklearn-color-fitted-level-3);\n",
              "  color: var(--sklearn-color-background);\n",
              "  text-decoration: none;\n",
              "}\n",
              "\n",
              "/* Span, style for the box shown on hovering the info icon */\n",
              ".sk-estimator-doc-link span {\n",
              "  display: none;\n",
              "  z-index: 9999;\n",
              "  position: relative;\n",
              "  font-weight: normal;\n",
              "  right: .2ex;\n",
              "  padding: .5ex;\n",
              "  margin: .5ex;\n",
              "  width: min-content;\n",
              "  min-width: 20ex;\n",
              "  max-width: 50ex;\n",
              "  color: var(--sklearn-color-text);\n",
              "  box-shadow: 2pt 2pt 4pt #999;\n",
              "  /* unfitted */\n",
              "  background: var(--sklearn-color-unfitted-level-0);\n",
              "  border: .5pt solid var(--sklearn-color-unfitted-level-3);\n",
              "}\n",
              "\n",
              ".sk-estimator-doc-link.fitted span {\n",
              "  /* fitted */\n",
              "  background: var(--sklearn-color-fitted-level-0);\n",
              "  border: var(--sklearn-color-fitted-level-3);\n",
              "}\n",
              "\n",
              ".sk-estimator-doc-link:hover span {\n",
              "  display: block;\n",
              "}\n",
              "\n",
              "/* \"?\"-specific style due to the `<a>` HTML tag */\n",
              "\n",
              "#sk-container-id-1 a.estimator_doc_link {\n",
              "  float: right;\n",
              "  font-size: 1rem;\n",
              "  line-height: 1em;\n",
              "  font-family: monospace;\n",
              "  background-color: var(--sklearn-color-background);\n",
              "  border-radius: 1rem;\n",
              "  height: 1rem;\n",
              "  width: 1rem;\n",
              "  text-decoration: none;\n",
              "  /* unfitted */\n",
              "  color: var(--sklearn-color-unfitted-level-1);\n",
              "  border: var(--sklearn-color-unfitted-level-1) 1pt solid;\n",
              "}\n",
              "\n",
              "#sk-container-id-1 a.estimator_doc_link.fitted {\n",
              "  /* fitted */\n",
              "  border: var(--sklearn-color-fitted-level-1) 1pt solid;\n",
              "  color: var(--sklearn-color-fitted-level-1);\n",
              "}\n",
              "\n",
              "/* On hover */\n",
              "#sk-container-id-1 a.estimator_doc_link:hover {\n",
              "  /* unfitted */\n",
              "  background-color: var(--sklearn-color-unfitted-level-3);\n",
              "  color: var(--sklearn-color-background);\n",
              "  text-decoration: none;\n",
              "}\n",
              "\n",
              "#sk-container-id-1 a.estimator_doc_link.fitted:hover {\n",
              "  /* fitted */\n",
              "  background-color: var(--sklearn-color-fitted-level-3);\n",
              "}\n",
              "</style><div id=\"sk-container-id-1\" class=\"sk-top-container\"><div class=\"sk-text-repr-fallback\"><pre>LinearRegression()</pre><b>In a Jupyter environment, please rerun this cell to show the HTML representation or trust the notebook. <br />On GitHub, the HTML representation is unable to render, please try loading this page with nbviewer.org.</b></div><div class=\"sk-container\" hidden><div class=\"sk-item\"><div class=\"sk-estimator fitted sk-toggleable\"><input class=\"sk-toggleable__control sk-hidden--visually\" id=\"sk-estimator-id-1\" type=\"checkbox\" checked><label for=\"sk-estimator-id-1\" class=\"sk-toggleable__label fitted sk-toggleable__label-arrow\"><div><div>LinearRegression</div></div><div><a class=\"sk-estimator-doc-link fitted\" rel=\"noreferrer\" target=\"_blank\" href=\"https://scikit-learn.org/1.6/modules/generated/sklearn.linear_model.LinearRegression.html\">?<span>Documentation for LinearRegression</span></a><span class=\"sk-estimator-doc-link fitted\">i<span>Fitted</span></span></div></label><div class=\"sk-toggleable__content fitted\"><pre>LinearRegression()</pre></div> </div></div></div></div>"
            ]
          },
          "metadata": {},
          "execution_count": 8
        }
      ]
    },
    {
      "cell_type": "markdown",
      "source": [
        "# Paso 8: Hacer predicciones\n",
        "\n",
        "En este paso usamos el **modelo entrenado** para hacer predicciones sobre los datos de entrenamiento y prueba.\n",
        "\n",
        "1. **Predicciones en el conjunto de entrenamiento**  \n",
        "   - `predictions_train = model_best.predict(X_poly_train_best)`  \n",
        "   - Calcula los valores de `y` ajustados por el modelo para los datos que el modelo ya ha visto.  \n",
        "   - Nos permite evaluar qué tan bien el modelo se ajustó a los datos de entrenamiento.\n",
        "\n",
        "2. **Predicciones en el conjunto de prueba**  \n",
        "   - `predictions_test = model_best.predict(X_poly_test_best)`  \n",
        "   - Calcula los valores de `y` para los datos que **no fueron usados durante el entrenamiento**.  \n",
        "   - Esto nos ayuda a medir la **capacidad de generalización** del modelo a datos nuevos.\n"
      ],
      "metadata": {
        "id": "l7cXpopemvR8"
      }
    },
    {
      "cell_type": "code",
      "source": [
        "\n",
        "# Paso 8: Hacer predicciones\n",
        "\n",
        "predictions_train = model_best.predict(X_poly_train_best)\n",
        "predictions_test = model_best.predict(X_poly_test_best)"
      ],
      "metadata": {
        "id": "oivRU18sjqVr"
      },
      "execution_count": 9,
      "outputs": []
    },
    {
      "cell_type": "markdown",
      "source": [
        "# Paso 9: Evaluar el modelo\n",
        "\n",
        "En este paso evaluamos el rendimiento del modelo utilizando métricas comunes en regresión:\n",
        "\n",
        "1. **Error Cuadrático Medio (MSE)**  \n",
        "   - `train_error = mean_squared_error(y_train, predictions_train)`  \n",
        "   - `test_error = mean_squared_error(y_test, predictions_test)`  \n",
        "   - Mide la **diferencia promedio al cuadrado** entre los valores reales y los predichos.  \n",
        "   - Valores menores indican un mejor ajuste.\n",
        "\n",
        "2. **Coeficiente de Determinación (R²)**  \n",
        "   - `train_r2 = r2_score(y_train, predictions_train)`  \n",
        "   - `test_r2 = r2_score(y_test, predictions_test)`  \n",
        "   - Representa la proporción de la **varianza explicada** por el modelo.  \n",
        "   - Valores cercanos a 1 indican que el modelo explica muy bien la variabilidad de los datos.\n",
        "\n",
        "Estas métricas permiten comparar el ajuste del modelo en los datos de entrenamiento y prueba, ayudando a identificar **sobreajuste o subajuste**.\n"
      ],
      "metadata": {
        "id": "t0olkAHXm9c9"
      }
    },
    {
      "cell_type": "code",
      "source": [
        "# ----------------------------------------------------------\n",
        "# Paso 9: Evaluar el modelo\n",
        "# ----------------------------------------------------------\n",
        "train_error = mean_squared_error(y_train, predictions_train)\n",
        "test_error = mean_squared_error(y_test, predictions_test)\n",
        "train_r2 = r2_score(y_train, predictions_train)\n",
        "test_r2 = r2_score(y_test, predictions_test)\n",
        "\n",
        "print(f\"Error cuadrático medio (train): {train_error:.2f}\")\n",
        "print(f\"Error cuadrático medio (test): {test_error:.2f}\")\n",
        "print(f\"R^2 (train): {train_r2:.3f}\")\n",
        "print(f\"R^2 (test): {test_r2:.3f}\")\n",
        "\n"
      ],
      "metadata": {
        "colab": {
          "base_uri": "https://localhost:8080/"
        },
        "id": "12UDmq5cjqaE",
        "outputId": "733bcb60-2580-48a6-b5d9-d44a3059b23c"
      },
      "execution_count": 10,
      "outputs": [
        {
          "output_type": "stream",
          "name": "stdout",
          "text": [
            "Error cuadrático medio (train): 82.12\n",
            "Error cuadrático medio (test): 93.20\n",
            "R^2 (train): 0.983\n",
            "R^2 (test): 0.972\n"
          ]
        }
      ]
    },
    {
      "cell_type": "markdown",
      "source": [
        "# Paso 10: Graficar el ajuste de la regresión polinómica\n",
        "\n",
        "En este paso visualizamos cómo el modelo polinómico se ajusta a los datos de entrenamiento y prueba:\n",
        "\n",
        "1. **Datos de entrenamiento y prueba**  \n",
        "   - Se representan como **puntos azules y verdes**, respectivamente.\n",
        "   - Esto permite comparar visualmente cómo el modelo se ajusta a ambos conjuntos de datos.\n",
        "\n",
        "2. **Curva de regresión polinómica**  \n",
        "   - `X_range_poly = poly_best.transform(X_range)` transforma un rango de valores X a características polinómicas del grado óptimo.\n",
        "   - `predictions_range = model_best.predict(X_range_poly)` genera las predicciones sobre este rango.\n",
        "   - La curva roja representa el **ajuste del modelo** a los datos.\n",
        "\n",
        "3. **Interpretación visual**  \n",
        "   - La gráfica permite ver si el modelo captura la **tendencia no lineal** de los datos.\n",
        "   - Es útil para detectar **sobreajuste** (curva demasiado ajustada) o **subajuste** (curva demasiado simple).\n"
      ],
      "metadata": {
        "id": "KwYgqZ0fnOVN"
      }
    },
    {
      "cell_type": "code",
      "source": [
        "# ----------------------------------------------------------\n",
        "# Paso 10: Graficar el ajuste de la regresión polinómica\n",
        "# ----------------------------------------------------------\n",
        "plt.figure(figsize=(10,6))\n",
        "plt.scatter(X_train, y_train, color='blue', label='Datos de entrenamiento')\n",
        "plt.scatter(X_test, y_test, color='green', label='Datos de prueba')\n",
        "\n",
        "X_range = np.arange(0, 40).reshape(-1,1)\n",
        "X_range_poly = poly_best.transform(X_range)\n",
        "predictions_range = model_best.predict(X_range_poly)\n",
        "\n",
        "plt.plot(X_range, predictions_range, color='red', linewidth=2, label='Ajuste Polinómico')\n",
        "plt.xlabel('X')\n",
        "plt.ylabel('y')\n",
        "plt.title('Regresión Polinómica - Entrenamiento y Prueba')\n",
        "plt.legend()\n",
        "plt.show()"
      ],
      "metadata": {
        "colab": {
          "base_uri": "https://localhost:8080/",
          "height": 565
        },
        "id": "NAn_0IRjjqlA",
        "outputId": "0b42129d-5e63-48ec-8d72-dbbb7dd07f64"
      },
      "execution_count": 11,
      "outputs": [
        {
          "output_type": "display_data",
          "data": {
            "text/plain": [
              "<Figure size 1000x600 with 1 Axes>"
            ],
            "image/png": "[encoded data removed]"
          },
          "metadata": {}
        }
      ]
    }
  ]
}